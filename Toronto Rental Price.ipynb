{
 "cells": [
  {
   "cell_type": "code",
   "execution_count": 3,
   "id": "e49a9b3b",
   "metadata": {},
   "outputs": [],
   "source": [
    "import pandas as pd\n",
    "import numpy as np\n",
    "from matplotlib import pyplot as plt\n",
    "%matplotlib inline\n",
    "import matplotlib \n",
    "matplotlib.rcParams[\"figure.figsize\"] = (20,10)"
   ]
  },
  {
   "cell_type": "code",
   "execution_count": 4,
   "id": "637d0693",
   "metadata": {},
   "outputs": [
    {
     "data": {
      "text/html": [
       "<div>\n",
       "<style scoped>\n",
       "    .dataframe tbody tr th:only-of-type {\n",
       "        vertical-align: middle;\n",
       "    }\n",
       "\n",
       "    .dataframe tbody tr th {\n",
       "        vertical-align: top;\n",
       "    }\n",
       "\n",
       "    .dataframe thead th {\n",
       "        text-align: right;\n",
       "    }\n",
       "</style>\n",
       "<table border=\"1\" class=\"dataframe\">\n",
       "  <thead>\n",
       "    <tr style=\"text-align: right;\">\n",
       "      <th></th>\n",
       "      <th>Bedroom</th>\n",
       "      <th>Bathroom</th>\n",
       "      <th>Den</th>\n",
       "      <th>Address</th>\n",
       "      <th>Lat</th>\n",
       "      <th>Long</th>\n",
       "      <th>Price</th>\n",
       "    </tr>\n",
       "  </thead>\n",
       "  <tbody>\n",
       "    <tr>\n",
       "      <th>0</th>\n",
       "      <td>2</td>\n",
       "      <td>2.0</td>\n",
       "      <td>0</td>\n",
       "      <td>3985 Grand Park Drive, 3985 Grand Park Dr, Mis...</td>\n",
       "      <td>43.581639</td>\n",
       "      <td>-79.648193</td>\n",
       "      <td>$2,450.00</td>\n",
       "    </tr>\n",
       "    <tr>\n",
       "      <th>1</th>\n",
       "      <td>1</td>\n",
       "      <td>1.0</td>\n",
       "      <td>1</td>\n",
       "      <td>361 Front St W, Toronto, ON M5V 3R5, Canada</td>\n",
       "      <td>43.643051</td>\n",
       "      <td>-79.391643</td>\n",
       "      <td>$2,150.00</td>\n",
       "    </tr>\n",
       "    <tr>\n",
       "      <th>2</th>\n",
       "      <td>1</td>\n",
       "      <td>1.0</td>\n",
       "      <td>0</td>\n",
       "      <td>89 McGill Street, Toronto, ON, M5B 0B1</td>\n",
       "      <td>43.660605</td>\n",
       "      <td>-79.378635</td>\n",
       "      <td>$1,950.00</td>\n",
       "    </tr>\n",
       "    <tr>\n",
       "      <th>3</th>\n",
       "      <td>2</td>\n",
       "      <td>2.0</td>\n",
       "      <td>0</td>\n",
       "      <td>10 York Street, Toronto, ON, M5J 0E1</td>\n",
       "      <td>43.641087</td>\n",
       "      <td>-79.381405</td>\n",
       "      <td>$2,900.00</td>\n",
       "    </tr>\n",
       "    <tr>\n",
       "      <th>4</th>\n",
       "      <td>1</td>\n",
       "      <td>1.0</td>\n",
       "      <td>0</td>\n",
       "      <td>80 St Patrick St, Toronto, ON M5T 2X6, Canada</td>\n",
       "      <td>43.652487</td>\n",
       "      <td>-79.389622</td>\n",
       "      <td>$1,800.00</td>\n",
       "    </tr>\n",
       "  </tbody>\n",
       "</table>\n",
       "</div>"
      ],
      "text/plain": [
       "   Bedroom  Bathroom  Den                                            Address  \\\n",
       "0        2       2.0    0  3985 Grand Park Drive, 3985 Grand Park Dr, Mis...   \n",
       "1        1       1.0    1        361 Front St W, Toronto, ON M5V 3R5, Canada   \n",
       "2        1       1.0    0             89 McGill Street, Toronto, ON, M5B 0B1   \n",
       "3        2       2.0    0               10 York Street, Toronto, ON, M5J 0E1   \n",
       "4        1       1.0    0      80 St Patrick St, Toronto, ON M5T 2X6, Canada   \n",
       "\n",
       "         Lat       Long      Price  \n",
       "0  43.581639 -79.648193  $2,450.00  \n",
       "1  43.643051 -79.391643  $2,150.00  \n",
       "2  43.660605 -79.378635  $1,950.00  \n",
       "3  43.641087 -79.381405  $2,900.00  \n",
       "4  43.652487 -79.389622  $1,800.00  "
      ]
     },
     "execution_count": 4,
     "metadata": {},
     "output_type": "execute_result"
    }
   ],
   "source": [
    "df1 = pd.read_csv(\"Toronto_apartment.csv\")\n",
    "df1.head()"
   ]
  },
  {
   "cell_type": "code",
   "execution_count": 5,
   "id": "30fdbeaf",
   "metadata": {},
   "outputs": [
    {
     "data": {
      "text/plain": [
       "(1124, 7)"
      ]
     },
     "execution_count": 5,
     "metadata": {},
     "output_type": "execute_result"
    }
   ],
   "source": [
    "df1.shape"
   ]
  },
  {
   "cell_type": "code",
   "execution_count": 6,
   "id": "8b927f5e",
   "metadata": {},
   "outputs": [
    {
     "data": {
      "text/plain": [
       "10 York Street, Toronto, ON, M5J 0E1                                          17\n",
       "70 Temperance St, Toronto, ON M5H 0B1, Canada                                 15\n",
       "3985 Grand Park Drive, 3985 Grand Park Dr, Mississauga, ON L5B 0H8, Canada    13\n",
       "89 McGill Street, Toronto, ON, M5B 0B1                                        12\n",
       "87 Peter St, Toronto, ON M5V 0P1, Canada                                      11\n",
       "                                                                              ..\n",
       "23 Wyndham St, Toronto, ON M6K 1R8, Canada                                     1\n",
       "39 Upper Duke Crescent, Unionville, ON L6G 0B8, Canada                         1\n",
       "350 Wellington St W, Toronto, ON M5V 3W9, Canada                               1\n",
       "20 King St E, Cobourg, ON K9A 1K7, Canada                                      1\n",
       "561 Sherbourne St, Toronto, ON M4X 0A1, Canada                                 1\n",
       "Name: Address, Length: 653, dtype: int64"
      ]
     },
     "execution_count": 6,
     "metadata": {},
     "output_type": "execute_result"
    }
   ],
   "source": [
    "df1['Address'].value_counts()"
   ]
  },
  {
   "cell_type": "code",
   "execution_count": 7,
   "id": "07a26f2b",
   "metadata": {},
   "outputs": [
    {
     "data": {
      "text/plain": [
       "(1124, 5)"
      ]
     },
     "execution_count": 7,
     "metadata": {},
     "output_type": "execute_result"
    }
   ],
   "source": [
    "df2 = df1.drop(['Lat', 'Long'], axis = 'columns')\n",
    "df2.shape"
   ]
  },
  {
   "cell_type": "code",
   "execution_count": 8,
   "id": "cab5e86b",
   "metadata": {},
   "outputs": [
    {
     "data": {
      "text/html": [
       "<div>\n",
       "<style scoped>\n",
       "    .dataframe tbody tr th:only-of-type {\n",
       "        vertical-align: middle;\n",
       "    }\n",
       "\n",
       "    .dataframe tbody tr th {\n",
       "        vertical-align: top;\n",
       "    }\n",
       "\n",
       "    .dataframe thead th {\n",
       "        text-align: right;\n",
       "    }\n",
       "</style>\n",
       "<table border=\"1\" class=\"dataframe\">\n",
       "  <thead>\n",
       "    <tr style=\"text-align: right;\">\n",
       "      <th></th>\n",
       "      <th>Bedroom</th>\n",
       "      <th>Bathroom</th>\n",
       "      <th>Den</th>\n",
       "      <th>Address</th>\n",
       "      <th>Price</th>\n",
       "    </tr>\n",
       "  </thead>\n",
       "  <tbody>\n",
       "    <tr>\n",
       "      <th>0</th>\n",
       "      <td>2</td>\n",
       "      <td>2.0</td>\n",
       "      <td>0</td>\n",
       "      <td>3985 Grand Park Drive, 3985 Grand Park Dr, Mis...</td>\n",
       "      <td>$2,450.00</td>\n",
       "    </tr>\n",
       "    <tr>\n",
       "      <th>1</th>\n",
       "      <td>1</td>\n",
       "      <td>1.0</td>\n",
       "      <td>1</td>\n",
       "      <td>361 Front St W, Toronto, ON M5V 3R5, Canada</td>\n",
       "      <td>$2,150.00</td>\n",
       "    </tr>\n",
       "    <tr>\n",
       "      <th>2</th>\n",
       "      <td>1</td>\n",
       "      <td>1.0</td>\n",
       "      <td>0</td>\n",
       "      <td>89 McGill Street, Toronto, ON, M5B 0B1</td>\n",
       "      <td>$1,950.00</td>\n",
       "    </tr>\n",
       "    <tr>\n",
       "      <th>3</th>\n",
       "      <td>2</td>\n",
       "      <td>2.0</td>\n",
       "      <td>0</td>\n",
       "      <td>10 York Street, Toronto, ON, M5J 0E1</td>\n",
       "      <td>$2,900.00</td>\n",
       "    </tr>\n",
       "    <tr>\n",
       "      <th>4</th>\n",
       "      <td>1</td>\n",
       "      <td>1.0</td>\n",
       "      <td>0</td>\n",
       "      <td>80 St Patrick St, Toronto, ON M5T 2X6, Canada</td>\n",
       "      <td>$1,800.00</td>\n",
       "    </tr>\n",
       "  </tbody>\n",
       "</table>\n",
       "</div>"
      ],
      "text/plain": [
       "   Bedroom  Bathroom  Den                                            Address  \\\n",
       "0        2       2.0    0  3985 Grand Park Drive, 3985 Grand Park Dr, Mis...   \n",
       "1        1       1.0    1        361 Front St W, Toronto, ON M5V 3R5, Canada   \n",
       "2        1       1.0    0             89 McGill Street, Toronto, ON, M5B 0B1   \n",
       "3        2       2.0    0               10 York Street, Toronto, ON, M5J 0E1   \n",
       "4        1       1.0    0      80 St Patrick St, Toronto, ON M5T 2X6, Canada   \n",
       "\n",
       "       Price  \n",
       "0  $2,450.00  \n",
       "1  $2,150.00  \n",
       "2  $1,950.00  \n",
       "3  $2,900.00  \n",
       "4  $1,800.00  "
      ]
     },
     "execution_count": 8,
     "metadata": {},
     "output_type": "execute_result"
    }
   ],
   "source": [
    "df2.head()"
   ]
  },
  {
   "cell_type": "code",
   "execution_count": 33,
   "id": "8e766848",
   "metadata": {},
   "outputs": [
    {
     "data": {
      "text/plain": [
       "0    2,450.00\n",
       "1    2,150.00\n",
       "2    1,950.00\n",
       "3    2,900.00\n",
       "4    1,800.00\n",
       "Name: Price, dtype: object"
      ]
     },
     "execution_count": 33,
     "metadata": {},
     "output_type": "execute_result"
    }
   ],
   "source": [
    "df2.head()"
   ]
  },
  {
   "cell_type": "code",
   "execution_count": 14,
   "id": "760654b7",
   "metadata": {},
   "outputs": [],
   "source": [
    "def is_float(x):\n",
    "    try:\n",
    "        float(x)\n",
    "    except:\n",
    "        return False\n",
    "    return True"
   ]
  },
  {
   "cell_type": "code",
   "execution_count": 26,
   "id": "76be29d4",
   "metadata": {},
   "outputs": [
    {
     "name": "stderr",
     "output_type": "stream",
     "text": [
      "C:\\Users\\HP\\AppData\\Local\\Temp/ipykernel_5400/2439095737.py:1: FutureWarning: The default value of regex will change from True to False in a future version. In addition, single character regular expressions will *not* be treated as literal strings when regex=True.\n",
      "  df2.Price.str.replace('$', '')\n"
     ]
    },
    {
     "data": {
      "text/plain": [
       "0       2,450.00\n",
       "1       2,150.00\n",
       "2       1,950.00\n",
       "3       2,900.00\n",
       "4       1,800.00\n",
       "          ...   \n",
       "1119    3,000.00\n",
       "1120    1,200.00\n",
       "1121    1,800.00\n",
       "1122    2,200.00\n",
       "1123    2,150.00\n",
       "Name: Price, Length: 1124, dtype: object"
      ]
     },
     "execution_count": 26,
     "metadata": {},
     "output_type": "execute_result"
    }
   ],
   "source": [
    "df2.Price.str.replace('$', '')"
   ]
  },
  {
   "cell_type": "code",
   "execution_count": 32,
   "id": "934e2674",
   "metadata": {},
   "outputs": [
    {
     "data": {
      "text/plain": [
       "0    2,450.00\n",
       "1    2,150.00\n",
       "2    1,950.00\n",
       "3    2,900.00\n",
       "4    1,800.00\n",
       "Name: Price, dtype: object"
      ]
     },
     "execution_count": 32,
     "metadata": {},
     "output_type": "execute_result"
    }
   ],
   "source": [
    "df2.head()"
   ]
  },
  {
   "cell_type": "code",
   "execution_count": null,
   "id": "1ebb311a",
   "metadata": {},
   "outputs": [],
   "source": []
  },
  {
   "cell_type": "code",
   "execution_count": 31,
   "id": "0e656b3a",
   "metadata": {},
   "outputs": [
    {
     "data": {
      "text/plain": [
       "0    2,450.00\n",
       "1    2,150.00\n",
       "2    1,950.00\n",
       "3    2,900.00\n",
       "4    1,800.00\n",
       "Name: Price, dtype: object"
      ]
     },
     "execution_count": 31,
     "metadata": {},
     "output_type": "execute_result"
    }
   ],
   "source": [
    "df2.head()"
   ]
  },
  {
   "cell_type": "code",
   "execution_count": null,
   "id": "3060d5fe",
   "metadata": {},
   "outputs": [],
   "source": []
  }
 ],
 "metadata": {
  "kernelspec": {
   "display_name": "Python 3 (ipykernel)",
   "language": "python",
   "name": "python3"
  },
  "language_info": {
   "codemirror_mode": {
    "name": "ipython",
    "version": 3
   },
   "file_extension": ".py",
   "mimetype": "text/x-python",
   "name": "python",
   "nbconvert_exporter": "python",
   "pygments_lexer": "ipython3",
   "version": "3.9.7"
  }
 },
 "nbformat": 4,
 "nbformat_minor": 5
}
